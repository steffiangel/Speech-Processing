{
  "cells": [
    {
      "cell_type": "markdown",
      "metadata": {
        "id": "view-in-github",
        "colab_type": "text"
      },
      "source": [
        "<a href=\"https://colab.research.google.com/github/steffiangel/Speech-Processing/blob/main/2348510_SPR_LAB3.ipynb\" target=\"_parent\"><img src=\"https://colab.research.google.com/assets/colab-badge.svg\" alt=\"Open In Colab\"/></a>"
      ]
    },
    {
      "cell_type": "markdown",
      "source": [
        "# **Speech to Text Transcription using Acoustic Phonetic Approach**"
      ],
      "metadata": {
        "id": "-fkht3ohTm0C"
      }
    },
    {
      "cell_type": "code",
      "execution_count": null,
      "metadata": {
        "colab": {
          "base_uri": "https://localhost:8080/"
        },
        "id": "ztFXK5wYyr6u",
        "outputId": "a727ec10-05aa-4ab1-df0b-5cae34952c1d"
      },
      "outputs": [
        {
          "output_type": "stream",
          "name": "stdout",
          "text": [
            "Collecting pocketsphinx\n",
            "  Downloading pocketsphinx-5.0.3-cp310-cp310-manylinux_2_17_x86_64.manylinux2014_x86_64.whl.metadata (6.8 kB)\n",
            "Collecting pydub\n",
            "  Downloading pydub-0.25.1-py2.py3-none-any.whl.metadata (1.4 kB)\n",
            "Collecting sounddevice (from pocketsphinx)\n",
            "  Downloading sounddevice-0.5.1-py3-none-any.whl.metadata (1.4 kB)\n",
            "Requirement already satisfied: CFFI>=1.0 in /usr/local/lib/python3.10/dist-packages (from sounddevice->pocketsphinx) (1.17.1)\n",
            "Requirement already satisfied: pycparser in /usr/local/lib/python3.10/dist-packages (from CFFI>=1.0->sounddevice->pocketsphinx) (2.22)\n",
            "Downloading pocketsphinx-5.0.3-cp310-cp310-manylinux_2_17_x86_64.manylinux2014_x86_64.whl (29.2 MB)\n",
            "\u001b[2K   \u001b[90m━━━━━━━━━━━━━━━━━━━━━━━━━━━━━━━━━━━━━━━━\u001b[0m \u001b[32m29.2/29.2 MB\u001b[0m \u001b[31m23.3 MB/s\u001b[0m eta \u001b[36m0:00:00\u001b[0m\n",
            "\u001b[?25hDownloading pydub-0.25.1-py2.py3-none-any.whl (32 kB)\n",
            "Downloading sounddevice-0.5.1-py3-none-any.whl (32 kB)\n",
            "Installing collected packages: pydub, sounddevice, pocketsphinx\n",
            "Successfully installed pocketsphinx-5.0.3 pydub-0.25.1 sounddevice-0.5.1\n"
          ]
        }
      ],
      "source": [
        "pip install pocketsphinx pydub\n"
      ]
    },
    {
      "cell_type": "markdown",
      "metadata": {
        "id": "P3pEEJ-83Qam"
      },
      "source": [
        "we use a pre-built acoustic model and dictionary (like en-us for English) to decode the audio input."
      ]
    },
    {
      "cell_type": "code",
      "execution_count": null,
      "metadata": {
        "colab": {
          "base_uri": "https://localhost:8080/"
        },
        "id": "LajqTvdN11_L",
        "outputId": "33c8b88c-c626-4b12-a78f-c3e10409cbf5"
      },
      "outputs": [
        {
          "output_type": "stream",
          "name": "stderr",
          "text": [
            "[nltk_data] Downloading package punkt to /root/nltk_data...\n",
            "[nltk_data]   Unzipping tokenizers/punkt.zip.\n",
            "[nltk_data] Downloading package averaged_perceptron_tagger to\n",
            "[nltk_data]     /root/nltk_data...\n",
            "[nltk_data]   Unzipping taggers/averaged_perceptron_tagger.zip.\n"
          ]
        }
      ],
      "source": [
        "import pocketsphinx\n",
        "from pocketsphinx import AudioFile\n",
        "import nltk\n",
        "import spacy\n",
        "\n",
        "nltk.download('punkt')\n",
        "nltk.download('averaged_perceptron_tagger')\n",
        "\n",
        "nlp = spacy.load(\"en_core_web_sm\")"
      ]
    },
    {
      "cell_type": "code",
      "execution_count": null,
      "metadata": {
        "id": "uAkaL62T1PGV"
      },
      "outputs": [],
      "source": [
        "def speech_to_text(wav_file):\n",
        "    # Initialize configuration\n",
        "    config = pocketsphinx.Decoder.default_config()\n",
        "    config.set_string('-hmm', pocketsphinx.get_model_path() + '/en-us') #the path to the acoustic model\n",
        "    config.set_string('-lm', pocketsphinx.get_model_path() + '/en-us.lm.bin')# providing context for word sequences\n",
        "    config.set_string('-dict', pocketsphinx.get_model_path() + '/cmudict-en-us.dict')#pronunciation dictionary that maps words to their phonetic representations.\n",
        "\n",
        "    # Decode the audio file\n",
        "    audio = AudioFile(audio_file=wav_file)\n",
        "    transcribed_text = \"\"\n",
        "\n",
        "    for phrase in audio:\n",
        "        transcribed_text += str(phrase) + \" \"\n",
        "\n",
        "    return transcribed_text.strip()\n",
        "\n",
        "\n"
      ]
    },
    {
      "cell_type": "code",
      "execution_count": null,
      "metadata": {
        "id": "mlBmW9rN23Qw"
      },
      "outputs": [],
      "source": [
        "def check_syntax_and_semantics(text):\n",
        "    tokens = nltk.word_tokenize(text)\n",
        "    pos_tags = nltk.pos_tag(tokens)\n",
        "    noun_count = sum(1 for word, tag in pos_tags if tag.startswith('NN'))\n",
        "    verb_count = sum(1 for word, tag in pos_tags if tag.startswith('VB'))\n",
        "\n",
        "\n",
        "    doc = nlp(text)\n",
        "\n",
        "    entities = [(ent.text, ent.label_) for ent in doc.ents]\n",
        "\n",
        "\n",
        "\n",
        "    if doc.is_parsed and (noun_count > 0 and verb_count > 0):\n",
        "        print(\"Text successfully converted.\")\n",
        "    else:\n",
        "        print(\"Redo recognition: input may be blurred or unclear.\")"
      ]
    },
    {
      "cell_type": "code",
      "execution_count": null,
      "metadata": {
        "colab": {
          "base_uri": "https://localhost:8080/"
        },
        "id": "gPuUwI3W1wbI",
        "outputId": "e3fd6272-778a-4406-c747-5e6d3deaa1e0"
      },
      "outputs": [
        {
          "output_type": "stream",
          "name": "stderr",
          "text": [
            "<ipython-input-7-ea692608821b>:3: DeprecationWarning: default_config() is deprecated, just call Config() constructor\n",
            "  config = pocketsphinx.Decoder.default_config()\n"
          ]
        },
        {
          "output_type": "stream",
          "name": "stdout",
          "text": [
            "Transcribed Text: the day good how the lunar how fluid and had a the man who get outta help and i are are that what we have a a that our loot good how are you really the fact that need a half and we put the that the ha ha  the house and no what at how we what are you whoa whoa up how can root with how the how the up high wow what up when a book and i want about the\n",
            "Text successfully converted.\n"
          ]
        },
        {
          "output_type": "stream",
          "name": "stderr",
          "text": [
            "<ipython-input-8-cc95578c6d63>:14: DeprecationWarning: [W107] The property `Doc.is_parsed` is deprecated. Use `Doc.has_annotation(\"DEP\")` instead.\n",
            "  if doc.is_parsed and (noun_count > 0 and verb_count > 0):\n"
          ]
        }
      ],
      "source": [
        "\n",
        "text11 = speech_to_text(\"harvard.wav\")\n",
        "print(\"Transcribed Text:\", text11)\n",
        "check_syntax_and_semantics(text11)\n"
      ]
    },
    {
      "cell_type": "code",
      "execution_count": null,
      "metadata": {
        "id": "_mCSrWSx2a2l"
      },
      "outputs": [],
      "source": []
    }
  ],
  "metadata": {
    "colab": {
      "provenance": [],
      "authorship_tag": "ABX9TyNk/OBFWf86Q4+ZWu9gXthK",
      "include_colab_link": true
    },
    "kernelspec": {
      "display_name": "Python 3",
      "name": "python3"
    },
    "language_info": {
      "name": "python"
    }
  },
  "nbformat": 4,
  "nbformat_minor": 0
}