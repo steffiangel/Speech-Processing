{
  "nbformat": 4,
  "nbformat_minor": 0,
  "metadata": {
    "colab": {
      "provenance": [],
      "authorship_tag": "ABX9TyN12VczEP46d3H4RflQtamD",
      "include_colab_link": true
    },
    "kernelspec": {
      "name": "python3",
      "display_name": "Python 3"
    },
    "language_info": {
      "name": "python"
    }
  },
  "cells": [
    {
      "cell_type": "markdown",
      "metadata": {
        "id": "view-in-github",
        "colab_type": "text"
      },
      "source": [
        "<a href=\"https://colab.research.google.com/github/steffiangel/Speech-Processing/blob/main/spr_lab7.ipynb\" target=\"_parent\"><img src=\"https://colab.research.google.com/assets/colab-badge.svg\" alt=\"Open In Colab\"/></a>"
      ]
    },
    {
      "cell_type": "markdown",
      "source": [],
      "metadata": {
        "id": "96WWharCYUYx"
      }
    },
    {
      "cell_type": "code",
      "execution_count": 1,
      "metadata": {
        "id": "RJ7ClTYkqLPr"
      },
      "outputs": [],
      "source": [
        "# Initial probabilities\n",
        "initial_prob = {'/s/': 1.0, '/p/': 0.0, '/ie:/': 0.0, '/tS/': 0.0}\n",
        "\n",
        "# Transition probabilities\n",
        "transition_prob = {\n",
        "    '/s/': {'/s/': 0.1, '/p/': 0.8, '/ie:/': 0.1, '/tS/': 0.0},\n",
        "    '/p/': {'/s/': 0.0, '/p/': 0.1, '/ie:/': 0.8, '/tS/': 0.1},\n",
        "    '/ie:/': {'/s/': 0.0, '/p/': 0.0, '/ie:/': 0.2, '/tS/': 0.8},\n",
        "    '/tS/': {'/s/': 0.2, '/p/': 0.0, '/ie:/': 0.0, '/tS/': 0.8}\n",
        "}\n",
        "\n",
        "# Emission probabilities\n",
        "emission_prob = {\n",
        "    '/s/': {'Energy': 0.7, 'Pitch': 0.2, 'Duration': 0.1},\n",
        "    '/p/': {'Energy': 0.5, 'Pitch': 0.3, 'Duration': 0.2},\n",
        "    '/ie:/': {'Energy': 0.3, 'Pitch': 0.5, 'Duration': 0.2},\n",
        "    '/tS/': {'Energy': 0.4, 'Pitch': 0.4, 'Duration': 0.2}\n",
        "}\n"
      ]
    },
    {
      "cell_type": "code",
      "source": [
        "def display_hmm_params(initial_prob, transition_prob, emission_prob):\n",
        "    print(\"Initial Probabilities:\")\n",
        "    for phoneme, prob in initial_prob.items():\n",
        "        print(f\"  {phoneme}: {prob}\")\n",
        "\n",
        "    print(\"\\nTransition Probabilities:\")\n",
        "    for from_phoneme, to_probs in transition_prob.items():\n",
        "        print(f\"  From {from_phoneme}:\")\n",
        "        for to_phoneme, prob in to_probs.items():\n",
        "            print(f\"    To {to_phoneme}: {prob}\")\n",
        "\n",
        "    print(\"\\nEmission Probabilities:\")\n",
        "    for phoneme, obs_probs in emission_prob.items():\n",
        "        print(f\"  For {phoneme}:\")\n",
        "        for observation, prob in obs_probs.items():\n",
        "            print(f\"    {observation}: {prob}\")\n",
        "\n",
        "# Display the HMM parameters\n",
        "display_hmm_params(initial_prob, transition_prob, emission_prob)\n"
      ],
      "metadata": {
        "colab": {
          "base_uri": "https://localhost:8080/"
        },
        "id": "o1a6jAnmqMMn",
        "outputId": "7e751fbb-999c-4deb-bccc-4de2f2639269"
      },
      "execution_count": 2,
      "outputs": [
        {
          "output_type": "stream",
          "name": "stdout",
          "text": [
            "Initial Probabilities:\n",
            "  /s/: 1.0\n",
            "  /p/: 0.0\n",
            "  /ie:/: 0.0\n",
            "  /tS/: 0.0\n",
            "\n",
            "Transition Probabilities:\n",
            "  From /s/:\n",
            "    To /s/: 0.1\n",
            "    To /p/: 0.8\n",
            "    To /ie:/: 0.1\n",
            "    To /tS/: 0.0\n",
            "  From /p/:\n",
            "    To /s/: 0.0\n",
            "    To /p/: 0.1\n",
            "    To /ie:/: 0.8\n",
            "    To /tS/: 0.1\n",
            "  From /ie:/:\n",
            "    To /s/: 0.0\n",
            "    To /p/: 0.0\n",
            "    To /ie:/: 0.2\n",
            "    To /tS/: 0.8\n",
            "  From /tS/:\n",
            "    To /s/: 0.2\n",
            "    To /p/: 0.0\n",
            "    To /ie:/: 0.0\n",
            "    To /tS/: 0.8\n",
            "\n",
            "Emission Probabilities:\n",
            "  For /s/:\n",
            "    Energy: 0.7\n",
            "    Pitch: 0.2\n",
            "    Duration: 0.1\n",
            "  For /p/:\n",
            "    Energy: 0.5\n",
            "    Pitch: 0.3\n",
            "    Duration: 0.2\n",
            "  For /ie:/:\n",
            "    Energy: 0.3\n",
            "    Pitch: 0.5\n",
            "    Duration: 0.2\n",
            "  For /tS/:\n",
            "    Energy: 0.4\n",
            "    Pitch: 0.4\n",
            "    Duration: 0.2\n"
          ]
        }
      ]
    },
    {
      "cell_type": "code",
      "source": [
        "import random\n",
        "\n",
        "# Phonemes and observations\n",
        "phonemes = ['/s/', '/p/', '/ie:/', '/tS/']\n",
        "observations = ['Energy', 'Pitch', 'Duration']\n",
        "\n",
        "# Function to generate a sequence of phonemes and observations\n",
        "def generate_sequence(initial_prob, transition_prob, emission_prob, length=5):\n",
        "    # Choose the first phoneme based on initial probabilities\n",
        "    current_phoneme = random.choices(list(initial_prob.keys()), list(initial_prob.values()))[0]\n",
        "\n",
        "    phoneme_sequence = [current_phoneme]\n",
        "    observation_sequence = [random.choices(observations, list(emission_prob[current_phoneme].values()))[0]]\n",
        "\n",
        "    # Generate the rest of the sequence\n",
        "    for _ in range(length - 1):\n",
        "        next_phoneme = random.choices(list(transition_prob[current_phoneme].keys()), list(transition_prob[current_phoneme].values()))[0]\n",
        "        phoneme_sequence.append(next_phoneme)\n",
        "        observation_sequence.append(random.choices(observations, list(emission_prob[next_phoneme].values()))[0])\n",
        "        current_phoneme = next_phoneme\n",
        "\n",
        "    return phoneme_sequence, observation_sequence\n",
        "\n",
        "# Generate a sequence for the word \"speech\"\n",
        "phoneme_seq, observation_seq = generate_sequence(initial_prob, transition_prob, emission_prob)\n",
        "print(\"\\nGenerated Phoneme Sequence:\", phoneme_seq)\n",
        "print(\"Generated Observation Sequence:\", observation_seq)\n"
      ],
      "metadata": {
        "colab": {
          "base_uri": "https://localhost:8080/"
        },
        "id": "TP3LsK21qNst",
        "outputId": "bd74d670-a372-45a5-d035-e8e52fba95ba"
      },
      "execution_count": 3,
      "outputs": [
        {
          "output_type": "stream",
          "name": "stdout",
          "text": [
            "\n",
            "Generated Phoneme Sequence: ['/s/', '/p/', '/ie:/', '/ie:/', '/ie:/']\n",
            "Generated Observation Sequence: ['Pitch', 'Energy', 'Energy', 'Pitch', 'Pitch']\n"
          ]
        }
      ]
    },
    {
      "cell_type": "code",
      "source": [
        "def viterbi_algorithm(observations, initial_prob, transition_prob, emission_prob):\n",
        "    # Initialize the Viterbi table\n",
        "    viterbi = {}\n",
        "    backpointer = {}\n",
        "\n",
        "    # Initialization step\n",
        "    for phoneme in initial_prob:\n",
        "        viterbi[phoneme] = initial_prob[phoneme] * emission_prob[phoneme].get(observations[0], 0)\n",
        "        backpointer[phoneme] = None\n",
        "\n",
        "    # Recursion step\n",
        "    for t in range(1, len(observations)):\n",
        "        new_viterbi = {}\n",
        "        new_backpointer = {}\n",
        "        for current_phoneme in phonemes:\n",
        "            max_prob, prev_phoneme = max(\n",
        "                [(viterbi[prev] * transition_prob[prev].get(current_phoneme, 0) * emission_prob[current_phoneme].get(observations[t], 0), prev)\n",
        "                 for prev in phonemes], key=lambda x: x[0])\n",
        "            new_viterbi[current_phoneme] = max_prob\n",
        "            new_backpointer[current_phoneme] = prev_phoneme\n",
        "        viterbi = new_viterbi\n",
        "        backpointer = new_backpointer\n",
        "\n",
        "    # Backtrack to find the most likely sequence\n",
        "    best_path = []\n",
        "    last_phoneme = max(viterbi, key=viterbi.get)\n",
        "    best_path.append(last_phoneme)\n",
        "\n",
        "    while backpointer[last_phoneme] is not None:\n",
        "        last_phoneme = backpointer[last_phoneme]\n",
        "        best_path.append(last_phoneme)\n",
        "\n",
        "    return best_path[::-1]\n",
        "\n",
        "# Perform inference for a given observation sequence\n",
        "observations_seq = ['Energy', 'Pitch', 'Duration', 'Energy', 'Pitch']\n",
        "inferred_phonemes = viterbi_algorithm(observations_seq, initial_prob, transition_prob, emission_prob)\n",
        "print(\"\\nInferred Phoneme Sequence:\", inferred_phonemes)\n"
      ],
      "metadata": {
        "id": "iYp4q1OfqPYe"
      },
      "execution_count": null,
      "outputs": []
    },
    {
      "cell_type": "code",
      "source": [],
      "metadata": {
        "id": "4XryYW4sqRc1"
      },
      "execution_count": null,
      "outputs": []
    }
  ]
}