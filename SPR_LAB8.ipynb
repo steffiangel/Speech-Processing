{
  "nbformat": 4,
  "nbformat_minor": 0,
  "metadata": {
    "colab": {
      "provenance": [],
      "authorship_tag": "ABX9TyPQ0CkfbjNGXgWC6SeyP/6X",
      "include_colab_link": true
    },
    "kernelspec": {
      "name": "python3",
      "display_name": "Python 3"
    },
    "language_info": {
      "name": "python"
    }
  },
  "cells": [
    {
      "cell_type": "markdown",
      "metadata": {
        "id": "view-in-github",
        "colab_type": "text"
      },
      "source": [
        "<a href=\"https://colab.research.google.com/github/steffiangel/Speech-Processing/blob/main/SPR_LAB8.ipynb\" target=\"_parent\"><img src=\"https://colab.research.google.com/assets/colab-badge.svg\" alt=\"Open In Colab\"/></a>"
      ]
    },
    {
      "cell_type": "code",
      "execution_count": null,
      "metadata": {
        "id": "AUrd_YzbShnm"
      },
      "outputs": [],
      "source": [
        "+import numpy as np\n",
        "\n",
        "\n",
        "states = ['S1', 'S2', 'S3', 'S4']  # /h/, /e/, /l/, /o/\n",
        "observations = ['O1', 'O2', 'O3', 'O4']  # Feature vectors\n",
        "\n",
        "# Transition probability matrix (A)\n",
        "transition_prob = np.array([\n",
        "    [0.0, 0.7, 0.3, 0.0],  # S1 -> S1, S2, S3, S4\n",
        "    [0.0, 0.2, 0.6, 0.2],  # S2 -> S1, S2, S3, S4\n",
        "    [0.0, 0.0, 0.3, 0.7],  # S3 -> S1, S2, S3, S4\n",
        "    [0.0, 0.0, 0.1, 0.9],  # S4 -> S1, S2, S3, S4\n",
        "])\n",
        "\n",
        "# Emission probability matrix (B)\n",
        "emission_prob = np.array([\n",
        "    [0.6, 0.2, 0.1, 0.1],  # S1\n",
        "    [0.1, 0.7, 0.1, 0.1],  # S2\n",
        "    [0.1, 0.1, 0.6, 0.2],  # S3\n",
        "    [0.2, 0.1, 0.2, 0.5],  # S4\n",
        "])\n",
        "\n",
        "\n",
        "initial_prob = np.array([1.0, 0.0, 0.0, 0.0])\n",
        "obs_sequence = [0, 1, 2, 3]\n",
        "\n"
      ]
    },
    {
      "cell_type": "code",
      "source": [
        "# Viterbi Algorithm\n",
        "def viterbi(obs, states, start_prob, trans_prob, emit_prob):\n",
        "    num_states = len(states)\n",
        "    num_obs = len(obs)\n",
        "\n",
        "    dp = np.zeros((num_states, num_obs))\n",
        "    backpointer = np.zeros((num_states, num_obs), dtype=int)\n",
        "\n",
        "\n",
        "    for s in range(num_states):\n",
        "        dp[s, 0] = start_prob[s] * emit_prob[s, obs[0]]\n",
        "        backpointer[s, 0] = 0\n",
        "\n",
        "    # Recursion step\n",
        "    for t in range(1, num_obs):\n",
        "        for s in range(num_states):\n",
        "            max_prob = -1\n",
        "            max_state = 0\n",
        "            for prev_s in range(num_states):\n",
        "                prob = dp[prev_s, t - 1] * trans_prob[prev_s, s] * emit_prob[s, obs[t]]\n",
        "                if prob > max_prob:\n",
        "                    max_prob = prob\n",
        "                    max_state = prev_s\n",
        "            dp[s, t] = max_prob\n",
        "            backpointer[s, t] = max_state\n",
        "\n",
        "    # Termination step\n",
        "    max_final_prob = -1\n",
        "    last_state = 0\n",
        "    for s in range(num_states):\n",
        "        if dp[s, num_obs - 1] > max_final_prob:\n",
        "            max_final_prob = dp[s, num_obs - 1]\n",
        "            last_state = s\n",
        "\n",
        "    # Traceback\n",
        "    best_path = [last_state]\n",
        "    for t in range(num_obs - 1, 0, -1):\n",
        "        best_path.insert(0, backpointer[best_path[0], t])\n",
        "\n",
        "    best_states = [states[state] for state in best_path]\n",
        "    return best_states, max_final_prob\n",
        "\n",
        "\n",
        "\n"
      ],
      "metadata": {
        "id": "9E6jEg4JSovO"
      },
      "execution_count": null,
      "outputs": []
    },
    {
      "cell_type": "code",
      "source": [
        "best_path, max_prob = viterbi(obs_sequence, states, initial_prob, transition_prob, emission_prob)\n",
        "\n",
        "print(\"Most likely sequence of states:\", best_path)\n",
        "print(\"Probability of the sequence:\", max_prob)"
      ],
      "metadata": {
        "id": "LrgC_bhiTfvv",
        "outputId": "2578b984-86f2-4fef-c7ab-df80552fdee4",
        "colab": {
          "base_uri": "https://localhost:8080/"
        }
      },
      "execution_count": null,
      "outputs": [
        {
          "output_type": "stream",
          "name": "stdout",
          "text": [
            "Most likely sequence of states: ['S1', 'S2', 'S3', 'S4']\n",
            "Probability of the sequence: 0.03704399999999999\n"
          ]
        }
      ]
    },
    {
      "cell_type": "code",
      "source": [],
      "metadata": {
        "id": "N8Wb4Gv2TgBY"
      },
      "execution_count": null,
      "outputs": []
    }
  ]
}